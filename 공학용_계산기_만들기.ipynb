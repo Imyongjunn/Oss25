{
  "nbformat": 4,
  "nbformat_minor": 0,
  "metadata": {
    "colab": {
      "provenance": [],
      "authorship_tag": "ABX9TyN6fWhdzrinoi1KZjMDUUAt",
      "include_colab_link": true
    },
    "kernelspec": {
      "name": "python3",
      "display_name": "Python 3"
    },
    "language_info": {
      "name": "python"
    }
  },
  "cells": [
    {
      "cell_type": "markdown",
      "metadata": {
        "id": "view-in-github",
        "colab_type": "text"
      },
      "source": [
        "<a href=\"https://colab.research.google.com/github/Imyongjunn/Oss25/blob/main/%EA%B3%B5%ED%95%99%EC%9A%A9_%EA%B3%84%EC%82%B0%EA%B8%B0_%EB%A7%8C%EB%93%A4%EA%B8%B0.ipynb\" target=\"_parent\"><img src=\"https://colab.research.google.com/assets/colab-badge.svg\" alt=\"Open In Colab\"/></a>"
      ]
    },
    {
      "cell_type": "markdown",
      "source": [
        "#공학용 계산기 개발의 필요성\n",
        "본 프로젝트는 많은 학생들이 공학용 계산기를 구매해야하는 문제를 해결하기 위해 만들었습니다. 예를 들면 $x^6$ 개발 하는게 어렵습니다.\n"
      ],
      "metadata": {
        "id": "QcGC0ziQFFJ3"
      }
    },
    {
      "cell_type": "markdown",
      "source": [
        "## 지수 값 구하기\n"
      ],
      "metadata": {
        "id": "SF8AdmO7FkHo"
      }
    },
    {
      "cell_type": "code",
      "source": [
        "x=2\n",
        "\n",
        "x6 = x*x*x*x*x*x\n",
        "x6\n",
        "\n",
        "x6 > 20000000\n",
        "\n",
        "print(\"너무 큰 수를 입력하였습니다\")"
      ],
      "metadata": {
        "colab": {
          "base_uri": "https://localhost:8080/"
        },
        "id": "XhESk7O7GXmk",
        "outputId": "eb79d8bb-c09a-4b19-c229-3974a22cf5ff"
      },
      "execution_count": 9,
      "outputs": [
        {
          "output_type": "stream",
          "name": "stdout",
          "text": [
            "너무 큰 수를 입력하였습니다\n"
          ]
        }
      ]
    }
  ]
}